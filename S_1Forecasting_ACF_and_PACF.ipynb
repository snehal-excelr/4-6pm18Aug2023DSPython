{
  "nbformat": 4,
  "nbformat_minor": 0,
  "metadata": {
    "colab": {
      "provenance": []
    },
    "kernelspec": {
      "name": "python3",
      "display_name": "Python 3"
    },
    "language_info": {
      "name": "python"
    }
  },
  "cells": [
    {
      "cell_type": "markdown",
      "source": [
        "# Autocorrelation"
      ],
      "metadata": {
        "id": "TiBoDcgHAYU_"
      }
    },
    {
      "cell_type": "code",
      "execution_count": 13,
      "metadata": {
        "id": "xCaPi0IqAJRP"
      },
      "outputs": [],
      "source": [
        "import pandas as pd\n",
        "import numpy as np\n",
        "from statsmodels.tsa.stattools import acf,pacf\n",
        "from statsmodels.graphics.tsaplots import plot_acf,plot_pacf\n",
        "import matplotlib.pyplot as plt\n",
        "# %matplotlib inline"
      ]
    },
    {
      "cell_type": "code",
      "source": [
        "df = pd.read_csv('/content/AirPassengers.csv',index_col='Month',parse_dates=True)\n",
        "df\n",
        "# Here month column is date type. We have made Month column as index column\n",
        "# and parse_dates=True tells python that Month is a date type column otherwise it will consider it as normal index."
      ],
      "metadata": {
        "id": "_wT9HUURA6rY",
        "colab": {
          "base_uri": "https://localhost:8080/",
          "height": 455
        },
        "outputId": "b94da22d-9466-464d-f957-6422e2c80d8b"
      },
      "execution_count": 14,
      "outputs": [
        {
          "output_type": "execute_result",
          "data": {
            "text/plain": [
              "            Passengers\n",
              "Month                 \n",
              "1949-01-01         112\n",
              "1949-02-01         118\n",
              "1949-03-01         132\n",
              "1949-04-01         129\n",
              "1949-05-01         121\n",
              "...                ...\n",
              "1960-08-01         606\n",
              "1960-09-01         508\n",
              "1960-10-01         461\n",
              "1960-11-01         390\n",
              "1960-12-01         432\n",
              "\n",
              "[144 rows x 1 columns]"
            ],
            "text/html": [
              "\n",
              "  <div id=\"df-15f1924c-f5ca-4b4e-97c1-df8db2220a6c\" class=\"colab-df-container\">\n",
              "    <div>\n",
              "<style scoped>\n",
              "    .dataframe tbody tr th:only-of-type {\n",
              "        vertical-align: middle;\n",
              "    }\n",
              "\n",
              "    .dataframe tbody tr th {\n",
              "        vertical-align: top;\n",
              "    }\n",
              "\n",
              "    .dataframe thead th {\n",
              "        text-align: right;\n",
              "    }\n",
              "</style>\n",
              "<table border=\"1\" class=\"dataframe\">\n",
              "  <thead>\n",
              "    <tr style=\"text-align: right;\">\n",
              "      <th></th>\n",
              "      <th>Passengers</th>\n",
              "    </tr>\n",
              "    <tr>\n",
              "      <th>Month</th>\n",
              "      <th></th>\n",
              "    </tr>\n",
              "  </thead>\n",
              "  <tbody>\n",
              "    <tr>\n",
              "      <th>1949-01-01</th>\n",
              "      <td>112</td>\n",
              "    </tr>\n",
              "    <tr>\n",
              "      <th>1949-02-01</th>\n",
              "      <td>118</td>\n",
              "    </tr>\n",
              "    <tr>\n",
              "      <th>1949-03-01</th>\n",
              "      <td>132</td>\n",
              "    </tr>\n",
              "    <tr>\n",
              "      <th>1949-04-01</th>\n",
              "      <td>129</td>\n",
              "    </tr>\n",
              "    <tr>\n",
              "      <th>1949-05-01</th>\n",
              "      <td>121</td>\n",
              "    </tr>\n",
              "    <tr>\n",
              "      <th>...</th>\n",
              "      <td>...</td>\n",
              "    </tr>\n",
              "    <tr>\n",
              "      <th>1960-08-01</th>\n",
              "      <td>606</td>\n",
              "    </tr>\n",
              "    <tr>\n",
              "      <th>1960-09-01</th>\n",
              "      <td>508</td>\n",
              "    </tr>\n",
              "    <tr>\n",
              "      <th>1960-10-01</th>\n",
              "      <td>461</td>\n",
              "    </tr>\n",
              "    <tr>\n",
              "      <th>1960-11-01</th>\n",
              "      <td>390</td>\n",
              "    </tr>\n",
              "    <tr>\n",
              "      <th>1960-12-01</th>\n",
              "      <td>432</td>\n",
              "    </tr>\n",
              "  </tbody>\n",
              "</table>\n",
              "<p>144 rows × 1 columns</p>\n",
              "</div>\n",
              "    <div class=\"colab-df-buttons\">\n",
              "\n",
              "  <div class=\"colab-df-container\">\n",
              "    <button class=\"colab-df-convert\" onclick=\"convertToInteractive('df-15f1924c-f5ca-4b4e-97c1-df8db2220a6c')\"\n",
              "            title=\"Convert this dataframe to an interactive table.\"\n",
              "            style=\"display:none;\">\n",
              "\n",
              "  <svg xmlns=\"http://www.w3.org/2000/svg\" height=\"24px\" viewBox=\"0 -960 960 960\">\n",
              "    <path d=\"M120-120v-720h720v720H120Zm60-500h600v-160H180v160Zm220 220h160v-160H400v160Zm0 220h160v-160H400v160ZM180-400h160v-160H180v160Zm440 0h160v-160H620v160ZM180-180h160v-160H180v160Zm440 0h160v-160H620v160Z\"/>\n",
              "  </svg>\n",
              "    </button>\n",
              "\n",
              "  <style>\n",
              "    .colab-df-container {\n",
              "      display:flex;\n",
              "      gap: 12px;\n",
              "    }\n",
              "\n",
              "    .colab-df-convert {\n",
              "      background-color: #E8F0FE;\n",
              "      border: none;\n",
              "      border-radius: 50%;\n",
              "      cursor: pointer;\n",
              "      display: none;\n",
              "      fill: #1967D2;\n",
              "      height: 32px;\n",
              "      padding: 0 0 0 0;\n",
              "      width: 32px;\n",
              "    }\n",
              "\n",
              "    .colab-df-convert:hover {\n",
              "      background-color: #E2EBFA;\n",
              "      box-shadow: 0px 1px 2px rgba(60, 64, 67, 0.3), 0px 1px 3px 1px rgba(60, 64, 67, 0.15);\n",
              "      fill: #174EA6;\n",
              "    }\n",
              "\n",
              "    .colab-df-buttons div {\n",
              "      margin-bottom: 4px;\n",
              "    }\n",
              "\n",
              "    [theme=dark] .colab-df-convert {\n",
              "      background-color: #3B4455;\n",
              "      fill: #D2E3FC;\n",
              "    }\n",
              "\n",
              "    [theme=dark] .colab-df-convert:hover {\n",
              "      background-color: #434B5C;\n",
              "      box-shadow: 0px 1px 3px 1px rgba(0, 0, 0, 0.15);\n",
              "      filter: drop-shadow(0px 1px 2px rgba(0, 0, 0, 0.3));\n",
              "      fill: #FFFFFF;\n",
              "    }\n",
              "  </style>\n",
              "\n",
              "    <script>\n",
              "      const buttonEl =\n",
              "        document.querySelector('#df-15f1924c-f5ca-4b4e-97c1-df8db2220a6c button.colab-df-convert');\n",
              "      buttonEl.style.display =\n",
              "        google.colab.kernel.accessAllowed ? 'block' : 'none';\n",
              "\n",
              "      async function convertToInteractive(key) {\n",
              "        const element = document.querySelector('#df-15f1924c-f5ca-4b4e-97c1-df8db2220a6c');\n",
              "        const dataTable =\n",
              "          await google.colab.kernel.invokeFunction('convertToInteractive',\n",
              "                                                    [key], {});\n",
              "        if (!dataTable) return;\n",
              "\n",
              "        const docLinkHtml = 'Like what you see? Visit the ' +\n",
              "          '<a target=\"_blank\" href=https://colab.research.google.com/notebooks/data_table.ipynb>data table notebook</a>'\n",
              "          + ' to learn more about interactive tables.';\n",
              "        element.innerHTML = '';\n",
              "        dataTable['output_type'] = 'display_data';\n",
              "        await google.colab.output.renderOutput(dataTable, element);\n",
              "        const docLink = document.createElement('div');\n",
              "        docLink.innerHTML = docLinkHtml;\n",
              "        element.appendChild(docLink);\n",
              "      }\n",
              "    </script>\n",
              "  </div>\n",
              "\n",
              "\n",
              "<div id=\"df-2d8e62a2-9fb8-405f-ac9c-4a3b7c5cfc0a\">\n",
              "  <button class=\"colab-df-quickchart\" onclick=\"quickchart('df-2d8e62a2-9fb8-405f-ac9c-4a3b7c5cfc0a')\"\n",
              "            title=\"Suggest charts.\"\n",
              "            style=\"display:none;\">\n",
              "\n",
              "<svg xmlns=\"http://www.w3.org/2000/svg\" height=\"24px\"viewBox=\"0 0 24 24\"\n",
              "     width=\"24px\">\n",
              "    <g>\n",
              "        <path d=\"M19 3H5c-1.1 0-2 .9-2 2v14c0 1.1.9 2 2 2h14c1.1 0 2-.9 2-2V5c0-1.1-.9-2-2-2zM9 17H7v-7h2v7zm4 0h-2V7h2v10zm4 0h-2v-4h2v4z\"/>\n",
              "    </g>\n",
              "</svg>\n",
              "  </button>\n",
              "\n",
              "<style>\n",
              "  .colab-df-quickchart {\n",
              "      --bg-color: #E8F0FE;\n",
              "      --fill-color: #1967D2;\n",
              "      --hover-bg-color: #E2EBFA;\n",
              "      --hover-fill-color: #174EA6;\n",
              "      --disabled-fill-color: #AAA;\n",
              "      --disabled-bg-color: #DDD;\n",
              "  }\n",
              "\n",
              "  [theme=dark] .colab-df-quickchart {\n",
              "      --bg-color: #3B4455;\n",
              "      --fill-color: #D2E3FC;\n",
              "      --hover-bg-color: #434B5C;\n",
              "      --hover-fill-color: #FFFFFF;\n",
              "      --disabled-bg-color: #3B4455;\n",
              "      --disabled-fill-color: #666;\n",
              "  }\n",
              "\n",
              "  .colab-df-quickchart {\n",
              "    background-color: var(--bg-color);\n",
              "    border: none;\n",
              "    border-radius: 50%;\n",
              "    cursor: pointer;\n",
              "    display: none;\n",
              "    fill: var(--fill-color);\n",
              "    height: 32px;\n",
              "    padding: 0;\n",
              "    width: 32px;\n",
              "  }\n",
              "\n",
              "  .colab-df-quickchart:hover {\n",
              "    background-color: var(--hover-bg-color);\n",
              "    box-shadow: 0 1px 2px rgba(60, 64, 67, 0.3), 0 1px 3px 1px rgba(60, 64, 67, 0.15);\n",
              "    fill: var(--button-hover-fill-color);\n",
              "  }\n",
              "\n",
              "  .colab-df-quickchart-complete:disabled,\n",
              "  .colab-df-quickchart-complete:disabled:hover {\n",
              "    background-color: var(--disabled-bg-color);\n",
              "    fill: var(--disabled-fill-color);\n",
              "    box-shadow: none;\n",
              "  }\n",
              "\n",
              "  .colab-df-spinner {\n",
              "    border: 2px solid var(--fill-color);\n",
              "    border-color: transparent;\n",
              "    border-bottom-color: var(--fill-color);\n",
              "    animation:\n",
              "      spin 1s steps(1) infinite;\n",
              "  }\n",
              "\n",
              "  @keyframes spin {\n",
              "    0% {\n",
              "      border-color: transparent;\n",
              "      border-bottom-color: var(--fill-color);\n",
              "      border-left-color: var(--fill-color);\n",
              "    }\n",
              "    20% {\n",
              "      border-color: transparent;\n",
              "      border-left-color: var(--fill-color);\n",
              "      border-top-color: var(--fill-color);\n",
              "    }\n",
              "    30% {\n",
              "      border-color: transparent;\n",
              "      border-left-color: var(--fill-color);\n",
              "      border-top-color: var(--fill-color);\n",
              "      border-right-color: var(--fill-color);\n",
              "    }\n",
              "    40% {\n",
              "      border-color: transparent;\n",
              "      border-right-color: var(--fill-color);\n",
              "      border-top-color: var(--fill-color);\n",
              "    }\n",
              "    60% {\n",
              "      border-color: transparent;\n",
              "      border-right-color: var(--fill-color);\n",
              "    }\n",
              "    80% {\n",
              "      border-color: transparent;\n",
              "      border-right-color: var(--fill-color);\n",
              "      border-bottom-color: var(--fill-color);\n",
              "    }\n",
              "    90% {\n",
              "      border-color: transparent;\n",
              "      border-bottom-color: var(--fill-color);\n",
              "    }\n",
              "  }\n",
              "</style>\n",
              "\n",
              "  <script>\n",
              "    async function quickchart(key) {\n",
              "      const quickchartButtonEl =\n",
              "        document.querySelector('#' + key + ' button');\n",
              "      quickchartButtonEl.disabled = true;  // To prevent multiple clicks.\n",
              "      quickchartButtonEl.classList.add('colab-df-spinner');\n",
              "      try {\n",
              "        const charts = await google.colab.kernel.invokeFunction(\n",
              "            'suggestCharts', [key], {});\n",
              "      } catch (error) {\n",
              "        console.error('Error during call to suggestCharts:', error);\n",
              "      }\n",
              "      quickchartButtonEl.classList.remove('colab-df-spinner');\n",
              "      quickchartButtonEl.classList.add('colab-df-quickchart-complete');\n",
              "    }\n",
              "    (() => {\n",
              "      let quickchartButtonEl =\n",
              "        document.querySelector('#df-2d8e62a2-9fb8-405f-ac9c-4a3b7c5cfc0a button');\n",
              "      quickchartButtonEl.style.display =\n",
              "        google.colab.kernel.accessAllowed ? 'block' : 'none';\n",
              "    })();\n",
              "  </script>\n",
              "</div>\n",
              "    </div>\n",
              "  </div>\n"
            ]
          },
          "metadata": {},
          "execution_count": 14
        }
      ]
    },
    {
      "cell_type": "code",
      "source": [
        "plt.figure(figsize=(8,3))\n",
        "plt.plot(df)\n",
        "# Trend=Linear upward, Seasonality = Multiplicative"
      ],
      "metadata": {
        "id": "W-goNkSuB0dx",
        "colab": {
          "base_uri": "https://localhost:8080/",
          "height": 308
        },
        "outputId": "aaf32dc5-438c-42af-dbc3-f6fd728578cc"
      },
      "execution_count": 15,
      "outputs": [
        {
          "output_type": "execute_result",
          "data": {
            "text/plain": [
              "[<matplotlib.lines.Line2D at 0x786773c59a50>]"
            ]
          },
          "metadata": {},
          "execution_count": 15
        },
        {
          "output_type": "display_data",
          "data": {
            "text/plain": [
              "<Figure size 800x300 with 1 Axes>"
            ],
            "image/png": "[encoded data removed]"
          },
          "metadata": {}
        }
      ]
    },
    {
      "cell_type": "markdown",
      "source": [
        "The airline passenger dataset shows the no. of passengers per month from 1949 to 1960.\n",
        "\n",
        "Autocorrelation tells you : How much the passengers of this month and previous month (lag value of 1) are correlated.\n",
        "\n",
        "We can rephrase the question as: How correlated the no. of passengers this month is to the no. of passengers a year ago(lag value of 12). Yearly seasonality is visible from the chart.\n",
        "\n",
        "The more lags you use, the lower the correlation will be. more recent periods have more impact.\n",
        "\n"
      ],
      "metadata": {
        "id": "uzk7DWB5PeEM"
      }
    },
    {
      "cell_type": "code",
      "source": [
        "#First-order difference: diff() - To convert non-stationary data to stationary.\n",
        "# Stationary dataset: Mean, variance, std deviation is remaining constant throughout the years.\n",
        "#But graph shows that magnitude of cycle in increasing every year. i.e. no. of passangers in that airline is increasing every year.\n",
        "# So mean variance std deviance will also change.\n",
        "# 99% times your Time series data will be non-stationary in nature.\n",
        "\n",
        "df['Psngr_Diff']=df['Passengers'].diff(periods=1)\n",
        "# In df dataset Month is index. So we have only one column Passengers. Make Passengers column as stationary. Add Passengers_Diff column.\n",
        "#differencing takes interval of 1 step. For 1st record NAN will be there because before that no data is available. Next 118-112=6, 132-118=14 and so on\n",
        "#After differencing if we plot it it will be stationary.\n",
        "df"
      ],
      "metadata": {
        "id": "JiT2lOuMEGe9"
      },
      "execution_count": null,
      "outputs": []
    },
    {
      "cell_type": "code",
      "source": [
        "# remove null values - Single null value is there so no need to impute it. We can drop it\n",
        "\n",
        "df=df.dropna()"
      ],
      "metadata": {
        "id": "l9_rVG_wI7Hq"
      },
      "execution_count": 17,
      "outputs": []
    },
    {
      "cell_type": "code",
      "source": [
        "df"
      ],
      "metadata": {
        "id": "oxpokbSwJQ8N"
      },
      "execution_count": null,
      "outputs": []
    },
    {
      "cell_type": "code",
      "source": [
        "#plot\n",
        "plt.title(\"1st order difference\", size=20)\n",
        "plt.plot(df['Passengers'], label='Passengers')\n",
        "plt.plot(df['Psngr_Diff'], label='1st order difference',color='red')\n",
        "plt.legend()"
      ],
      "metadata": {
        "id": "NLrX81C8JSNm"
      },
      "execution_count": null,
      "outputs": []
    },
    {
      "cell_type": "code",
      "source": [
        "# Calculate Autocorrelation\n",
        "acf_values = acf(df['Psngr_Diff'])\n",
        "np.round(acf_values,2)\n",
        "# acf helps us to identify MA order (q)\n",
        "# pacf helps us to identify AR order (p)\n",
        "# Prints autocorrelation of current data and all records i.e. 1-step lagged version, 2-step lagged version and so on.\n",
        "# First value 1 represents autocorr. between current data and itself. so don't consider this.\n",
        "# Highest is 12th period value: 0.83 i.e. 83%. It tells us a value 12 periods ago has a strong impact on the value today.\n"
      ],
      "metadata": {
        "colab": {
          "base_uri": "https://localhost:8080/"
        },
        "id": "sCpWZPM2KIHP",
        "outputId": "ac9a8693-8bdf-4f4f-bbaa-1c6c186881b9"
      },
      "execution_count": 8,
      "outputs": [
        {
          "output_type": "execute_result",
          "data": {
            "text/plain": [
              "array([ 1.  ,  0.3 , -0.1 , -0.24, -0.3 , -0.09, -0.08, -0.09, -0.29,\n",
              "       -0.19, -0.1 ,  0.28,  0.83,  0.28, -0.11, -0.22, -0.23, -0.06,\n",
              "       -0.07, -0.09, -0.3 , -0.16])"
            ]
          },
          "metadata": {},
          "execution_count": 8
        }
      ]
    },
    {
      "cell_type": "code",
      "source": [
        "# Plot ACF\n",
        "plot_acf(df['Psngr_Diff'], lags=30);\n",
        "# Blue shaded region is +-2 std error region. Anything within this region is non-significant\n",
        "# Yt-12 and current data has very high autocorrelation(0.83). Same trend can be seen after every one year.\n",
        "# So use Yt-12 and Yt-24 for model building as they are having very stron autocorrelation."
      ],
      "metadata": {
        "id": "fECdpLBVKl8V"
      },
      "execution_count": null,
      "outputs": []
    },
    {
      "cell_type": "markdown",
      "source": [
        "Plot confirms our assumption about the correlation on lag 12. The same is visible at lag 24, but the correlation declines over time. Value 12 periods ago has more impact on the value today than the value 24 years ago does.eg. Mobile price of last year will have high correlation with current year price than 2 years back price."
      ],
      "metadata": {
        "id": "Zb77AGGyT3hW"
      }
    },
    {
      "cell_type": "markdown",
      "source": [
        "# Partial Autocorrelation Function"
      ],
      "metadata": {
        "id": "xSvYQJ3SN9H9"
      }
    },
    {
      "cell_type": "markdown",
      "source": [
        "- Moving Average models do not rely on PACF. Many times it relies on ACF.\n",
        "\n",
        "- It shows the correlation of a sequence\n",
        "with itself lagged by some no. of time units. But here, only the direct effect is shown and all intermediary effects are removed.\n",
        "- For example, you want to know the direct relationship between no. of passangers today and 12 months ago. You don't care about anything in between.\n",
        "- The no. of passengers 12 months affects the no. of passengers 11 months ago - and the whole chain repeats untill the most recent period. These indirected effects are neglected in partial autocorrelation calculations."
      ],
      "metadata": {
        "id": "HkwhXNrAdj9j"
      }
    },
    {
      "cell_type": "code",
      "source": [
        "# Calculate PACF\n",
        "pacf_values = pacf(df['Psngr_Diff'])\n",
        "np.round(pacf_values,2)\n",
        "# The correlation value at lag 12 has dropped to 0.61, indicating the direct relationship ia a bit weaker."
      ],
      "metadata": {
        "id": "PZ31kLv2NVFs",
        "colab": {
          "base_uri": "https://localhost:8080/"
        },
        "outputId": "c4ff5762-dab8-4e96-8862-480f10c85a0d"
      },
      "execution_count": 21,
      "outputs": [
        {
          "output_type": "execute_result",
          "data": {
            "text/plain": [
              "array([ 1.  ,  0.3 , -0.22, -0.16, -0.23,  0.01, -0.2 , -0.16, -0.49,\n",
              "       -0.28, -0.67, -0.42,  0.61, -0.05, -0.3 ,  0.02,  0.14,  0.09,\n",
              "       -0.12,  0.01, -0.22, -0.12])"
            ]
          },
          "metadata": {},
          "execution_count": 21
        }
      ]
    },
    {
      "cell_type": "code",
      "source": [
        "# Plot PACF\n",
        "plot_pacf(df['Psngr_Diff'], lags=30);\n",
        "# This blue area depicts the 95% confidence interval and is an indicator of the significance threshold.\n",
        "# That means, anything within the blue area is statistically close to zero\n",
        "# and anything outside the blue area is statistically non-zero."
      ],
      "metadata": {
        "id": "iKSd9YOdMJ2C",
        "colab": {
          "base_uri": "https://localhost:8080/",
          "height": 452
        },
        "outputId": "54ffd32d-255f-48a5-bff2-5aa6a01588e8"
      },
      "execution_count": 22,
      "outputs": [
        {
          "output_type": "display_data",
          "data": {
            "text/plain": [
              "<Figure size 640x480 with 1 Axes>"
            ],
            "image/png": "[encoded data removed]"
          },
          "metadata": {}
        }
      ]
    },
    {
      "cell_type": "code",
      "source": [],
      "metadata": {
        "id": "h0mnKPjvgdJ5"
      },
      "execution_count": null,
      "outputs": []
    }
  ]
}